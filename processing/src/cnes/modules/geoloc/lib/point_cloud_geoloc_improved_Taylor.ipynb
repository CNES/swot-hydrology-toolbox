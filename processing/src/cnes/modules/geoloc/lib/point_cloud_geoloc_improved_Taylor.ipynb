{
 "cells": [
  {
   "cell_type": "code",
   "execution_count": 2,
   "metadata": {
    "collapsed": true
   },
   "outputs": [],
   "source": [
    "import numpy as np\n",
    "import matplotlib.pyplot as plt\n",
    "%matplotlib inline\n",
    "import scipy.optimize as opt\n",
    "from math import atan2\n",
    "import timeit"
   ]
  },
  {
   "cell_type": "code",
   "execution_count": 3,
   "metadata": {
    "collapsed": true
   },
   "outputs": [],
   "source": [
    "def normalize(vect):\n",
    "    norm = np.sqrt(np.dot(vect,vect))\n",
    "    return vect/norm #don't use me with np.zeroes(#)\n",
    "\n",
    "R_e = 6378137.0 \n",
    "R_p = 6356752.31425 \n",
    "\n",
    "def proj_ellipsoid(R_e, R_p, p, verbose=False, numerical_min=True):\n",
    "    x, y, z = p\n",
    "    phi = atan2(y, x)\n",
    "    d = np.sqrt(x**2+y**2)\n",
    "    r = np.linalg.norm(p)\n",
    "    alpha = np.sqrt(d**2/R_e**2 + z**2/R_p**2) #facteur d'homothétie\n",
    "    \n",
    "    #on peut développer/chercher en theta autour de:\n",
    "    theta_0 = np.arccos(z/(alpha*R_p))\n",
    "    if numerical_min:\n",
    "        def G(theta):\n",
    "            terme_cst = r**2+R_p**2\n",
    "            terme_sin2 = (R_e**2-R_p**2)*np.sin(theta)**2\n",
    "            terme_sin = -2*R_e*d*np.sin(theta)\n",
    "            terme_cos = -2*R_p*z*np.cos(theta)\n",
    "            return terme_cst+terme_sin2+terme_cos+terme_sin\n",
    "    \n",
    "        #numerical minimization\n",
    "        solve_bisec = opt.minimize_scalar(G, bounds=(.9999*theta_0,1.0001*theta_0), method='bounded')\n",
    "        theta_sol = solve_bisec.x\n",
    "    else:\n",
    "        #analytical minimization (linearization; use me only with points close to the ellipsoid)\n",
    "        #marginally faster\n",
    "        ct = np.cos(theta_0)\n",
    "        st = np.sin(theta_0)\n",
    "        delta_theta_num = -1*(ct*st*(R_e**2-R_p**2) - R_e*d*ct + R_p*z*st)\n",
    "        delta_theta_den = ((ct*ct-st*st)*(R_e**2-R_p**2) + R_e*d*st + R_p*z*ct)\n",
    "        delta_theta = delta_theta_num/delta_theta_den\n",
    "        theta_sol = theta_0+delta_theta\n",
    "\n",
    "    if verbose:\n",
    "        check_dtetha_vals = np.linspace(-1e-7,1e-7,51)\n",
    "        check_vals = np.array([np.sqrt(G(theta_0+dtheta)) for dtheta in check_dtetha_vals])\n",
    "        plt.plot(check_dtetha_vals, check_vals)\n",
    "        plt.axvline(theta_sol-theta_0, c='g')\n",
    "\n",
    "    x_sol = R_e*np.sin(theta_sol)*np.cos(phi)\n",
    "    y_sol = R_e*np.sin(theta_sol)*np.sin(phi)\n",
    "    z_sol = R_p*np.cos(theta_sol)\n",
    "    return np.array([x_sol, y_sol, z_sol])\n",
    "\n",
    "\n",
    "def height_above_ellispoid(p, numerical_min=True):\n",
    "    p_proj = proj_ellipsoid(R_e, R_p, p, numerical_min = numerical_min)\n",
    "    sign_height = np.sign((p[0]**2+p[1]**2)/R_e**2 + (p[2]/R_p)**2 - 1)\n",
    "    return sign_height*np.linalg.norm(p_proj-p)\n",
    "\n",
    "\n",
    "def pointcloud_ellipsoidgeoloc_improved(p, s, vs, \n",
    "                                        R_target, h_target, \n",
    "                                        keep_Doppler=False, \n",
    "                                        #if False uses 0 Doppler, else the value computed from p, s, bs\n",
    "                                        keep_R=False,\n",
    "                                        verbose = False,\n",
    "                                        numerical_proj = True):\n",
    "    \n",
    "    s_hat = normalize(s)\n",
    "    # let's define first an adapted orthonormal basis\n",
    "    v_hat = normalize(vs) #points along track\n",
    "    u_hat = normalize(np.cross(s_hat, v_hat)) #s and v are almost ortho; no danger of colinear (points roughly cross track)\n",
    "    w_hat = np.cross(u_hat, v_hat) # points roughly to nadir\n",
    "    \n",
    "    r_s = np.linalg.norm(s)\n",
    "    \n",
    "    delta = np.dot(p-s,v_hat) if keep_Doppler else 0.\n",
    "    R = np.linalg.norm(p-s) if keep_R else R_target\n",
    "    \n",
    "    # let's choose the sign of mu (discriminates between both swaths) based on the input point\n",
    "    mu_input_sign = np.sign(np.dot(p-s,u_hat))\n",
    "\n",
    "    def point_on_circle_rangeDoppler(mu):\n",
    "        r_eq = np.sqrt(R**2-delta**2)\n",
    "        return s + r_eq*(np.cos(mu)*w_hat + np.sin(mu)*u_hat) + delta*v_hat\n",
    "    \n",
    "    def dist_point_to_proj_minush(mu):\n",
    "        p_mu = point_on_circle_rangeDoppler(mu)\n",
    "        d = height_above_ellispoid(p_mu, numerical_min=numerical_proj)\n",
    "        return (d-h_target)**2\n",
    "\n",
    "    bounds_chooseside = (0., 6*np.pi/180.) if mu_input_sign>0 else (-6*np.pi/180., 0.)\n",
    "    sol = opt.minimize_scalar(dist_point_to_proj_minush,\n",
    "                               bounds=bounds_chooseside,\n",
    "                               method='bounded')#uses bisection since this is a 1D problem\n",
    "    mu_sol = sol.x\n",
    "    p_new = point_on_circle_rangeDoppler(mu_sol)\n",
    "\n",
    "    if verbose:\n",
    "        #print(sol)\n",
    "        print(mu_sol)\n",
    "        check_dmu_vals = np.linspace(-.001,.001,300)\n",
    "        check_vals = np.array([np.sqrt(dist_point_to_proj_minush(mu_sol+dmu)) for dmu in check_dmu_vals])\n",
    "        plt.plot(check_dmu_vals, check_vals)\n",
    "        plt.show()\n",
    "    \n",
    "        check_dmu_vals = np.linspace(-.05,.05,300)\n",
    "        check_vals = np.array([np.sqrt(dist_point_to_proj_minush(dmu)) for dmu in check_dmu_vals])\n",
    "        plt.plot(check_dmu_vals, check_vals)\n",
    "        plt.axvline(mu_sol, c='r')\n",
    "        #print(np.array([np.linalg.norm(p_new-s)-R,np.dot(normalize(p_new-s),v_hat),height_above_ellispoid(p_new)]))\n",
    "    \n",
    "    return p_new"
   ]
  },
  {
   "cell_type": "code",
   "execution_count": 4,
   "metadata": {
    "collapsed": true
   },
   "outputs": [],
   "source": [
    "p_test = np.array([4429662.87177, 887470.118554, 4487262.47752])\n",
    "s_test = np.array([ 5052547.95238, 1052933.69588, 5115928.23432])\n",
    "vs_test = np.array([ -5341.44828678, 819.4300598, 5076.67508892 ])\n",
    "\n",
    "h_test = 11.7834 \n",
    "R_test = 900324.748127\n",
    "\n",
    "h_brut = 8.81399"
   ]
  },
  {
   "cell_type": "code",
   "execution_count": 5,
   "metadata": {},
   "outputs": [
    {
     "name": "stdout",
     "output_type": "stream",
     "text": [
      "0.004784107208251953\n"
     ]
    }
   ],
   "source": [
    "ti = timeit.time.time()\n",
    "p_res = pointcloud_ellipsoidgeoloc_improved(p_test, s_test, vs_test, \n",
    "                                            R_test, h_brut,\n",
    "                                            keep_Doppler=True,\n",
    "                                            keep_R=True,\n",
    "                                            verbose=False,\n",
    "                                            numerical_proj=True)\n",
    "tf = timeit.time.time()\n",
    "print(tf-ti)"
   ]
  },
  {
   "cell_type": "code",
   "execution_count": 6,
   "metadata": {},
   "outputs": [
    {
     "name": "stdout",
     "output_type": "stream",
     "text": [
      "[ 4429662.85341361   887470.48698405  4487262.39873766]\n",
      "[ 4429662.87177    887470.118554  4487262.47752 ]\n",
      "[-0.01835639  0.36843005 -0.07878234]\n",
      "0.377205931476\n"
     ]
    }
   ],
   "source": [
    "print(p_res)\n",
    "print(p_test)\n",
    "print(p_res-p_test)\n",
    "print(np.linalg.norm(p_res-p_test))"
   ]
  },
  {
   "cell_type": "code",
   "execution_count": 36,
   "metadata": {},
   "outputs": [
    {
     "name": "stdout",
     "output_type": "stream",
     "text": [
      "0.0014350414276123047\n"
     ]
    }
   ],
   "source": [
    "ti = timeit.time.time()\n",
    "p_res = pointcloud_ellipsoidgeoloc_improved(p_test, s_test, vs_test, \n",
    "                                            R_test,h_test,\n",
    "                                            keep_Doppler=False,\n",
    "                                            keep_R=False,\n",
    "                                            verbose=False,\n",
    "                                            numerical_proj=False)\n",
    "tf = timeit.time.time()\n",
    "print(tf-ti)"
   ]
  },
  {
   "cell_type": "code",
   "execution_count": 31,
   "metadata": {},
   "outputs": [
    {
     "name": "stdout",
     "output_type": "stream",
     "text": [
      "[ 4429690.04639167   886909.53693652  4487383.35948219]\n",
      "[ 4429662.87177    887470.118554  4487262.47752 ]\n",
      "[  27.17462166 -560.58161748  120.88196219]\n",
      "574.110319276\n"
     ]
    }
   ],
   "source": [
    "print(p_res)\n",
    "print(p_test)\n",
    "print(p_res-p_test)\n",
    "print(np.linalg.norm(p_res-p_test))"
   ]
  },
  {
   "cell_type": "code",
   "execution_count": 37,
   "metadata": {},
   "outputs": [
    {
     "name": "stdout",
     "output_type": "stream",
     "text": [
      "0.0004718303680419922\n"
     ]
    }
   ],
   "source": [
    "ti = timeit.time.time()\n",
    "p_res_T = pointcloud_ellipsoidgeoloc_improved_Taylortheta2mu1(p_test, s_test, vs_test, \n",
    "                                            R_test,3*h_test,\n",
    "                                            keep_Doppler=True,\n",
    "                                            keep_R=False,\n",
    "                                            verbose=True)\n",
    "tf = timeit.time.time()\n",
    "print(tf-ti)"
   ]
  },
  {
   "cell_type": "code",
   "execution_count": 38,
   "metadata": {},
   "outputs": [
    {
     "name": "stdout",
     "output_type": "stream",
     "text": [
      "[ 4429691.29145696   886902.35673714  4487384.0223061 ]\n",
      "[ 4429662.87177    887470.118554  4487262.47752 ]\n",
      "[  28.41968696 -567.76181686  121.5447861 ]\n",
      "581.321162797\n",
      "516.809894806\n",
      "35.6209681857 11.7834\n"
     ]
    }
   ],
   "source": [
    "print(p_res_T)\n",
    "print(p_test)\n",
    "print(p_res_T-p_test)\n",
    "print(np.linalg.norm(p_res_T-p_test))\n",
    "print(np.linalg.norm(p_res_T-p_res))\n",
    "print(height_above_ellispoid(p_res_T, numerical_min=True), h_test)"
   ]
  },
  {
   "cell_type": "code",
   "execution_count": 39,
   "metadata": {
    "collapsed": true
   },
   "outputs": [],
   "source": [
    "def pointcloud_ellipsoidgeoloc_improved_Taylortheta2mu1(p_noisy, s, vs, \n",
    "                                        R_target, h_target, \n",
    "                                        keep_Doppler=False, \n",
    "                                        #if False uses 0 Doppler, else the value computed from p, s, bs\n",
    "                                        keep_R=False,\n",
    "                                        verbose = False):\n",
    "    \n",
    "    s_hat = normalize(s)\n",
    "    # let's define first an adapted orthonormal basis\n",
    "    v_hat = normalize(vs) #points along track\n",
    "    u_hat = normalize(np.cross(s_hat, v_hat)) #s and v are almost ortho; no danger of colinear (points roughly cross track)\n",
    "    w_hat = np.cross(u_hat, v_hat) # points roughly to nadir\n",
    "    \n",
    "    r_s = np.linalg.norm(s)\n",
    "    \n",
    "    delta = np.dot(p_noisy-s,v_hat) if keep_Doppler else 0.\n",
    "    R = np.linalg.norm(p_noisy-s) if keep_R else R_target\n",
    "    \n",
    "    #OLDlet's choose the sign of mu (discriminates between both swaths) based on the input point\n",
    "    # mu_input_sign = np.sign(np.dot(p_noisy-s,u_hat))\n",
    "    \n",
    "    #initial guess for mu uses the input point for now\n",
    "    mu = atan2(np.dot(p_noisy-s,u_hat),np.dot(p_noisy-s,w_hat))\n",
    "    \n",
    "    h_noisy = height_above_ellispoid(p_noisy, numerical_min=False)\n",
    "    r_eq = np.sqrt(R**2-delta**2)\n",
    "    mu += (h_target-h_brut)/r_eq/np.sin(mu) #tweak the intial guess: move by dh in the w_hat direction \n",
    "    \n",
    "    \n",
    "    p_mu = s + r_eq*(np.cos(mu)*w_hat + np.sin(mu)*u_hat) + delta*v_hat\n",
    "    dp_mu_dmu = r_eq*(-np.sin(mu)*w_hat + np.cos(mu)*u_hat)\n",
    "        \n",
    "    r2_mu = np.dot(p_mu,p_mu)\n",
    "    z_mu = p_mu[2]\n",
    "    d_mu = np.sqrt(r2_mu-z_mu*z_mu)\n",
    "        \n",
    "    dr2_dmu = 2*np.dot(p_mu,dp_mu_dmu)\n",
    "    dz_dmu = dp_mu_dmu[2]\n",
    "    dd_dmu = (dr2_dmu/2.-z_mu*dz_dmu)/d_mu\n",
    "\n",
    "    \n",
    "    #initial guess for theta\n",
    "    alpha = np.sqrt(d_mu**2/R_e**2 + z_mu**2/R_p**2) #homotethy factor for an ellipsoid going through p_noisy\n",
    "    theta_0 = np.arccos(z_mu/(alpha*R_p))\n",
    "    \n",
    "    DR2 = R_e**2-R_p**2\n",
    "    s_th, c_th = np.sin(theta_0), np.cos(theta_0)\n",
    "    s_th2 , c_th2 = s_th**2, c_th**2\n",
    "    G = r2_mu+R_p**2 + DR2*s_th2 - 2*R_e*d_mu*s_th - 2*R_p*z_mu*c_th\n",
    "    dG_dth = 2*DR2*s_th*c_th - 2*R_e*d_mu*c_th + 2*R_p*z_mu*s_th\n",
    "    d2G_dth2 = 2*DR2*(c_th2-s_th2) + 2*R_e*d_mu*s_th + 2*R_p*z_mu*c_th\n",
    "    dG_dmu = dr2_dmu - 2*R_e*dd_dmu*s_th -2*R_p*dz_dmu*c_th\n",
    "    d2G_dthdmu = -2*R_e*dd_dmu*c_th + 2*R_p*dz_dmu*s_th\n",
    "    d3G_dth2dmu = 2*R_e*dd_dmu*s_th + 2*R_p*dz_dmu*c_th\n",
    "    \n",
    "    A = G - dG_dth**2/d2G_dth2/2\n",
    "    B = dG_dmu - d2G_dthdmu*dG_dth/d2G_dth2 + dG_dth**2*d3G_dth2dmu/d2G_dth2**2/2\n",
    "    \n",
    "    #print(dG_dth/d2G_dth2)\n",
    "    #print(h_target**2, G , dG_dth**2/d2G_dth2/2)\n",
    "    #print(dG_dth**2*d3G_dth2dmu/d2G_dth2**2/2, d2G_dthdmu*dG_dth/d2G_dth2, dG_dmu)\n",
    "    #print('tata',height_above_ellispoid(p_mu)**2,A)\n",
    "    \n",
    "    delta_mu = (h_target**2-A)/B\n",
    "    #print(delta_mu)\n",
    "    #delta_mu = 0.\n",
    "    p_final = s + r_eq*(np.cos(mu+delta_mu)*w_hat + np.sin(mu+delta_mu)*u_hat) + delta*v_hat\n",
    "    #print(np.linalg.norm(p_mu+delta_mu*dp_mu_dmu-p_final))\n",
    "    return p_final\n",
    "    "
   ]
  },
  {
   "cell_type": "code",
   "execution_count": 31,
   "metadata": {},
   "outputs": [
    {
     "data": {
      "text/plain": [
       "0.0028223999999999996"
      ]
     },
     "execution_count": 31,
     "metadata": {},
     "output_type": "execute_result"
    }
   ],
   "source": [
    "(8.4e-5)**2/2*800e3"
   ]
  },
  {
   "cell_type": "code",
   "execution_count": 29,
   "metadata": {},
   "outputs": [
    {
     "name": "stdout",
     "output_type": "stream",
     "text": [
      "0.03935838444082568\n",
      "-0.000103381706657\n",
      "0.05830049514770508\n",
      "[ 4429690.40036327   886902.49748896  4487384.86815781]\n",
      "[ 4429662.87177    887470.118554  4487262.47752 ]\n",
      "[  27.52859327 -567.62106504  122.39063781]\n",
      "581.318299341\n",
      "516.804236404\n",
      "35.6207813062 11.7834\n"
     ]
    },
    {
     "data": {
      "image/png": "[encoded data removed]",
      "text/plain": [
       "<matplotlib.figure.Figure at 0x7f41e86a3278>"
      ]
     },
     "metadata": {},
     "output_type": "display_data"
    }
   ],
   "source": [
    "ti = timeit.time.time()\n",
    "p_res_T = pointcloud_ellipsoidgeoloc_improved_Taylortheta2mu1_check(p_test, s_test, vs_test, \n",
    "                                            R_test,3*h_test,\n",
    "                                            keep_Doppler=False,\n",
    "                                            keep_R=False,\n",
    "                                            verbose=True)\n",
    "tf = timeit.time.time()\n",
    "print(tf-ti)\n",
    "\n",
    "print(p_res_T)\n",
    "print(p_test)\n",
    "print(p_res_T-p_test)\n",
    "print(np.linalg.norm(p_res_T-p_test))\n",
    "print(np.linalg.norm(p_res_T-p_res))\n",
    "print(height_above_ellispoid(p_res_T, numerical_min=True), h_test)"
   ]
  },
  {
   "cell_type": "code",
   "execution_count": 27,
   "metadata": {
    "collapsed": true
   },
   "outputs": [],
   "source": [
    "def pointcloud_ellipsoidgeoloc_improved_Taylortheta2mu1_check(p_noisy, s, vs, \n",
    "                                        R_target, h_target, \n",
    "                                        keep_Doppler=False, \n",
    "                                        #if False uses 0 Doppler, else the value computed from p, s, bs\n",
    "                                        keep_R=False,\n",
    "                                        verbose = False):\n",
    "    \n",
    "    s_hat = normalize(s)\n",
    "    # let's define first an adapted orthonormal basis\n",
    "    v_hat = normalize(vs) #points along track\n",
    "    u_hat = normalize(np.cross(s_hat, v_hat)) #s and v are almost ortho; no danger of colinear (points roughly cross track)\n",
    "    w_hat = np.cross(u_hat, v_hat) # points roughly to nadir\n",
    "    \n",
    "    r_s = np.linalg.norm(s)\n",
    "    \n",
    "    delta = np.dot(p_noisy-s,v_hat) if keep_Doppler else 0.\n",
    "    R = np.linalg.norm(p_noisy-s) if keep_R else R_target\n",
    "    \n",
    "    #OLDlet's choose the sign of mu (discriminates between both swaths) based on the input point\n",
    "    # mu_input_sign = np.sign(np.dot(p_noisy-s,u_hat))\n",
    "    \n",
    "    #initial guess for mu uses the input point for now\n",
    "    mu = atan2(np.dot(p_noisy-s,u_hat),np.dot(p_noisy-s,w_hat))\n",
    "    print(mu)\n",
    "    r_eq = np.sqrt(R**2-delta**2)\n",
    "    mu += (h_target-h_brut)/r_eq/np.sin(mu)\n",
    "    \n",
    "    def Gtilde(mu):\n",
    "        \n",
    "        p_mu = s + r_eq*(np.cos(mu)*w_hat + np.sin(mu)*u_hat) + delta*v_hat\n",
    "        dp_mu_dmu = r_eq*(-np.sin(mu)*w_hat + np.cos(mu)*u_hat)\n",
    "            \n",
    "        r2_mu = np.dot(p_mu,p_mu)\n",
    "        z_mu = p_mu[2]\n",
    "        d_mu = np.sqrt(r2_mu-z_mu*z_mu)\n",
    "            \n",
    "        dr2_dmu = 2*np.dot(p_mu,dp_mu_dmu)\n",
    "        dz_dmu = dp_mu_dmu[2]\n",
    "        dd_dmu = (dr2_dmu/2.-z_mu*dz_dmu)/d_mu\n",
    "    \n",
    "        \n",
    "        #initial guess for theta\n",
    "        alpha = np.sqrt(d_mu**2/R_e**2 + z_mu**2/R_p**2) #homotethy factor for an ellipsoid going through p_noisy\n",
    "        theta_0 = np.arccos(z_mu/(alpha*R_p))\n",
    "    \n",
    "        DR2 = R_e**2-R_p**2\n",
    "        s_th, c_th = np.sin(theta_0), np.cos(theta_0)\n",
    "        s_th2 , c_th2 = s_th**2, c_th**2\n",
    "        G = r2_mu+R_p**2 + DR2*s_th2 - 2*R_e*d_mu*s_th - 2*R_p*z_mu*c_th\n",
    "        dG_dth = 2*DR2*s_th*c_th - 2*R_e*d_mu*c_th + 2*R_p*z_mu*s_th\n",
    "        d2G_dth2 = 2*DR2*(c_th2-s_th2) + 2*R_e*d_mu*s_th + 2*R_p*z_mu*c_th\n",
    "        dG_dmu = dr2_dmu - 2*R_e*dd_dmu*s_th -2*R_p*dz_dmu*c_th\n",
    "        d2G_dthdmu = -2*R_e*dd_dmu*c_th + 2*R_p*dz_dmu*s_th\n",
    "        d3G_dth2dmu = 2*R_e*dd_dmu*s_th + 2*R_p*dz_dmu*c_th\n",
    "    \n",
    "        A = G - dG_dth**2/d2G_dth2/2\n",
    "        B = dG_dmu - d2G_dthdmu*dG_dth/d2G_dth2 + dG_dth**2*d3G_dth2dmu/d2G_dth2**2/2\n",
    "    \n",
    "        #print('tata',height_above_ellispoid(p_mu)**2,A)\n",
    "    \n",
    "        #print(dG_dth/d2G_dth2)\n",
    "        #print(h_target**2, G , dG_dth**2/d2G_dth2/2)\n",
    "        #print(dG_dth**2*d3G_dth2dmu/d2G_dth2**2/2, d2G_dthdmu*dG_dth/d2G_dth2, dG_dmu)\n",
    "        return A,B\n",
    "    \n",
    "    delta_mu_tab = np.linspace(-1e-4,1e-4,50)\n",
    "    Gtilde_tab = np.array([Gtilde(mu+ddd)[0] for ddd in delta_mu_tab])\n",
    "    def Ghat(mu):\n",
    "        p_mu = s + r_eq*(np.cos(mu)*w_hat + np.sin(mu)*u_hat) + delta*v_hat\n",
    "        return height_above_ellispoid(p_mu, numerical_min=True)**2\n",
    "    Ghat_tab = np.array([Ghat(mu+ddd) for ddd in delta_mu_tab])\n",
    "    \n",
    "    A, B = Gtilde(mu)\n",
    "    def Gtilde_lin(dmu):\n",
    "        return A + B*dmu\n",
    "    Gtilde_lin_tab = np.array([Gtilde_lin(ddd) for ddd in delta_mu_tab])\n",
    "    \n",
    "    delta_mu = (h_target**2-A)/B\n",
    "    \n",
    "    plt.figure(figsize=(10,10))\n",
    "    plt.plot(delta_mu_tab,Gtilde_tab)\n",
    "    plt.plot(delta_mu_tab,Ghat_tab)\n",
    "    plt.plot(delta_mu_tab,Gtilde_lin_tab)\n",
    "    plt.axvline(0, c='k')\n",
    "    plt.axvline(delta_mu, c='r')\n",
    "    plt.axhline(h_target**2, c='k')\n",
    "    \n",
    "    \n",
    "    print(delta_mu)\n",
    "    #delta_mu = 0.\n",
    "    p_final = s + r_eq*(np.cos(mu+delta_mu)*w_hat + np.sin(mu+delta_mu)*u_hat) + delta*v_hat\n",
    "    #print(np.linalg.norm(p_mu+delta_mu*dp_mu_dmu-p_final))\n",
    "    return p_final\n",
    "    "
   ]
  },
  {
   "cell_type": "code",
   "execution_count": null,
   "metadata": {
    "collapsed": true
   },
   "outputs": [],
   "source": []
  }
 ],
 "metadata": {
  "kernelspec": {
   "display_name": "Python 3",
   "language": "python",
   "name": "python3"
  },
  "language_info": {
   "codemirror_mode": {
    "name": "ipython",
    "version": 3
   },
   "file_extension": ".py",
   "mimetype": "text/x-python",
   "name": "python",
   "nbconvert_exporter": "python",
   "pygments_lexer": "ipython3",
   "version": "3.5.2"
  }
 },
 "nbformat": 4,
 "nbformat_minor": 2
}
